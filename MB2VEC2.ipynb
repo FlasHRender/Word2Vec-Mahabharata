{
 "nbformat": 4,
 "nbformat_minor": 0,
 "metadata": {
  "accelerator": "GPU",
  "colab": {
   "name": "MB2VEC2.ipynb",
   "provenance": [],
   "collapsed_sections": [],
   "toc_visible": true
  },
  "kernelspec": {
   "display_name": "Python 3",
   "language": "python",
   "name": "python3"
  },
  "language_info": {
   "codemirror_mode": {
    "name": "ipython",
    "version": 3
   },
   "file_extension": ".py",
   "mimetype": "text/x-python",
   "name": "python",
   "nbconvert_exporter": "python",
   "pygments_lexer": "ipython3",
   "version": "3.6.8"
  }
 },
 "cells": [
  {
   "cell_type": "markdown",
   "metadata": {
    "id": "l72Cp7USUS98"
   },
   "source": [
    "# Advanced Certification in AIML\n",
    "## A Program by IIIT-H\n",
    "The objective of this experiment is to understand word2vec.\n",
    "In this experiment we will use **Mahabharata** as our text corpus\n",
    "\n",
    "#### Importing the required packages"
   ]
  },
  {
   "cell_type": "code",
   "metadata": {
    "id": "PJUrWMcNUS9-"
   },
   "source": [
    "#vector space modeling and topic modeling toolkit\n",
    "import gensim\n",
    "\n",
    "# Operating System\n",
    "import os\n",
    "\n",
    "# Regular Expression\n",
    "import re\n",
    "\n",
    "# nltk packages\n",
    "from nltk.stem.snowball import SnowballStemmer\n",
    "\n",
    "# Basic Packages\n",
    "import numpy as np\n",
    "from matplotlib import pyplot as plt\n",
    "import warnings\n",
    "warnings.filterwarnings(\"ignore\")\n",
    "\n",
    "# PCA from scikit learn\n",
    "from sklearn.decomposition import PCA"
   ],
   "execution_count": null,
   "outputs": []
  },
  {
   "cell_type": "code",
   "metadata": {
    "id": "jlk1l7_e3JbP",
    "colab": {
     "base_uri": "https://localhost:8080/",
     "height": 54
    },
    "outputId": "245a33ae-5b18-4f42-a1a5-5b6104e71391"
   },
   "source": [
    "!ls"
   ],
   "execution_count": null,
   "outputs": [
    {
     "output_type": "stream",
     "text": [
      "M1_DL_MB2VEC2.ipynb  MB2Vec_Without_stemmer.bin  MB.txt       stopwords.txt\n",
      "MB2Vec.bin\t     MB2Vec_With_stemmer.bin\t sample_data  word2vec.png\n"
     ],
     "name": "stdout"
    }
   ]
  },
  {
   "cell_type": "code",
   "metadata": {
    "id": "K1mKBiCLSZpJ"
   },
   "source": [
    "model = gensim.models.Word2Vec.load('MB2Vec_Without_stemmer.bin')\n",
    "#model = gensim.models.Word2Vec.load('MB2Vec_With_stemmer.bin')"
   ],
   "execution_count": null,
   "outputs": []
  },
  {
   "cell_type": "code",
   "metadata": {
    "id": "gqx5BtMhUS-X",
    "colab": {
     "base_uri": "https://localhost:8080/",
     "height": 108
    },
    "outputId": "411b6208-3d4e-457d-a581-522828041208"
   },
   "source": [
    "krishna5 = model.wv.most_similar('krishna')[:5]\n",
    "for name, similarity in krishna5:\n",
    "  print(\"Name: {} similarity: {}\".format(name, round(similarity,2)))"
   ],
   "execution_count": null,
   "outputs": [
    {
     "output_type": "stream",
     "text": [
      "Name: kesava similarity: 0.88\n",
      "Name: vasudeva similarity: 0.82\n",
      "Name: nala similarity: 0.8\n",
      "Name: govinda similarity: 0.74\n",
      "Name: madhava similarity: 0.74\n"
     ],
     "name": "stdout"
    }
   ]
  },
  {
   "cell_type": "code",
   "metadata": {
    "id": "rRC2B4eyUS-c",
    "colab": {
     "base_uri": "https://localhost:8080/",
     "height": 108
    },
    "outputId": "90f9075e-6374-4bae-ce04-a2755f86d0c1"
   },
   "source": [
    "arjuna5 = model.wv.most_similar('arjuna')[:5]\n",
    "for name, similarity in arjuna5:\n",
    "  print(\"Name: {} similarity: {}\".format(name, round(similarity,2)))"
   ],
   "execution_count": null,
   "outputs": [
    {
     "output_type": "stream",
     "text": [
      "Name: partha similarity: 0.9\n",
      "Name: dhananjaya similarity: 0.86\n",
      "Name: kama similarity: 0.84\n",
      "Name: salya similarity: 0.83\n",
      "Name: bhima similarity: 0.83\n"
     ],
     "name": "stdout"
    }
   ]
  },
  {
   "cell_type": "code",
   "metadata": {
    "id": "PH6IbDiNUS-f",
    "colab": {
     "base_uri": "https://localhost:8080/",
     "height": 108
    },
    "outputId": "7d6bb708-9921-4c4a-8b09-4b8174408b71"
   },
   "source": [
    "virata5 = model.wv.most_similar('virata')[:5]\n",
    "for name, similarity in virata5:\n",
    "  print(\"Name: {} similarity: {}\".format(name, round(similarity,2)))\n"
   ],
   "execution_count": null,
   "outputs": [
    {
     "output_type": "stream",
     "text": [
      "Name: panchala similarity: 0.88\n",
      "Name: drupada similarity: 0.87\n",
      "Name: duhsasana similarity: 0.85\n",
      "Name: twins similarity: 0.85\n",
      "Name: nakula similarity: 0.85\n"
     ],
     "name": "stdout"
    }
   ]
  },
  {
   "cell_type": "code",
   "metadata": {
    "id": "1LE-0APJUS-o",
    "colab": {
     "base_uri": "https://localhost:8080/",
     "height": 399
    },
    "outputId": "0eeba015-05c2-436e-8eea-fa812a6a6c5f"
   },
   "source": [
    "words_list = [] #np.array([])\n",
    "vector_list =[] #np.array([])\n",
    "print(len(model.wv.vocab))\n",
    "for i in model.wv.vocab:\n",
    "    #try :\n",
    "        words_list.append(i)\n",
    "        vector_list.append(model[i])\n",
    "    #except :\n",
    "    #    pass\n",
    "    \n",
    "words_list=np.array(words_list)\n",
    "vector_list=np.array(vector_list)\n",
    "print(vector_list.shape,words_list.shape)\n",
    "vector_list = vector_list.reshape(len(model.wv.vocab), -1)\n",
    "print(vector_list.shape)\n",
    "print(words_list[:5])\n",
    "print(vector_list[0])"
   ],
   "execution_count": null,
   "outputs": [
    {
     "output_type": "stream",
     "text": [
      "1864\n",
      "(1864, 100) (1864,)\n",
      "(1864, 100)\n",
      "['original' 'text' 'king' 'thou' 'hast']\n",
      "[ 0.10591703  0.11072537  0.09023888 -0.0210696  -0.27914014  0.4307274\n",
      " -0.15017948  0.09893571 -0.29030254 -0.19116187  0.00226485  0.02568228\n",
      " -0.13955557  0.01971332 -0.10852176  0.03047267 -0.19157818  0.42182624\n",
      " -0.08246224 -0.02487629 -0.27755737  0.7843399   0.18752691 -0.23491813\n",
      "  0.15974417  0.2571485  -0.23066688  0.03373548  0.05961284  0.40081868\n",
      "  0.4150131  -0.34176707 -0.04298875  0.14409421 -0.00276539  0.12176047\n",
      " -0.0841397   0.08302723 -0.10030815 -0.33098072  0.1340728   0.19234265\n",
      " -0.16649649  0.20268638 -0.04638767  0.06321446  0.10805321  0.19875818\n",
      " -0.30152225 -0.05329386 -0.07241584  0.08227935  0.14119165 -0.00426028\n",
      "  0.28609514 -0.39315066  0.03727203 -0.2956322   0.14164713  0.3574658\n",
      " -0.11652929  0.24543743 -0.6961225   0.27358252  0.2743496   0.00119314\n",
      "  0.18458992  0.08544466  0.5029684   0.14778215  0.1978774  -0.21220566\n",
      " -0.14880095 -0.28871983 -0.25522488  0.30471405  0.02131106  0.11284416\n",
      "  0.15276475  0.14913629 -0.24124071 -0.16337162 -0.21096416 -0.42828536\n",
      " -0.17437744 -0.07970185  0.14574198  0.09194425  0.14831015  0.10721143\n",
      "  0.08406796 -0.14652638  0.03733413  0.0209794  -0.10581218  0.27940974\n",
      "  0.23803115 -0.09219921  0.13361289 -0.17087664]\n"
     ],
     "name": "stdout"
    }
   ]
  },
  {
   "cell_type": "code",
   "metadata": {
    "id": "NIUDGaOcUS-2",
    "colab": {
     "base_uri": "https://localhost:8080/",
     "height": 35
    },
    "outputId": "dcc0a0a8-f60b-4213-f48e-94081eafd755"
   },
   "source": [
    "vector_list.shape"
   ],
   "execution_count": null,
   "outputs": [
    {
     "output_type": "execute_result",
     "data": {
      "text/plain": [
       "(1864, 100)"
      ]
     },
     "metadata": {
      "tags": []
     },
     "execution_count": 11
    }
   ]
  },
  {
   "cell_type": "code",
   "metadata": {
    "id": "0vtec4MqUS-x"
   },
   "source": [
    "pca = PCA(n_components=2)\n",
    "pca.fit(vector_list)\n",
    "compressed_list =pca.transform(vector_list)"
   ],
   "execution_count": null,
   "outputs": []
  },
  {
   "cell_type": "code",
   "metadata": {
    "id": "5WzvLbokUS-8",
    "colab": {
     "base_uri": "https://localhost:8080/",
     "height": 35
    },
    "outputId": "cec947dc-a3d5-4ab8-d0e2-5a3ce1794c5c"
   },
   "source": [
    "compressed_list.shape"
   ],
   "execution_count": null,
   "outputs": [
    {
     "output_type": "execute_result",
     "data": {
      "text/plain": [
       "(1864, 2)"
      ]
     },
     "metadata": {
      "tags": []
     },
     "execution_count": 13
    }
   ]
  },
  {
   "cell_type": "markdown",
   "metadata": {
    "id": "telXVe64US_A"
   },
   "source": [
    "Now, let us find the location of some characters in word_list to get the locations."
   ]
  },
  {
   "cell_type": "code",
   "metadata": {
    "id": "lPeqHx9pUS_B",
    "colab": {
     "base_uri": "https://localhost:8080/",
     "height": 35
    },
    "outputId": "baef3514-cdcd-4746-b8c3-8f38f28a9309"
   },
   "source": [
    "characters = ['dussasana','sakuni','duryodhana','bhishma', 'krishna','madri','pandu', 'kunti', 'karna', 'bhima', 'arjuna', 'nakula', 'sahadeva', 'draupadi']\n",
    "locs = [np.where(words_list == x)[0][0] for x in characters]\n",
    "print(locs)"
   ],
   "execution_count": null,
   "outputs": [
    {
     "output_type": "stream",
     "text": [
      "[1781, 1780, 1643, 15, 1320, 1623, 1303, 223, 1815, 1714, 1481, 1801, 1656, 1755]\n"
     ],
     "name": "stdout"
    }
   ]
  },
  {
   "cell_type": "code",
   "metadata": {
    "id": "M07Mn8qEIXPC"
   },
   "source": [
    "from mpl_toolkits.mplot3d import Axes3D"
   ],
   "execution_count": null,
   "outputs": []
  },
  {
   "cell_type": "markdown",
   "metadata": {
    "id": "b32_gYKwUS_E"
   },
   "source": [
    "To get more sense of what actually we did till now. let us visualize the data"
   ]
  },
  {
   "cell_type": "code",
   "metadata": {
    "id": "LywntZxOUS_G",
    "colab": {
     "base_uri": "https://localhost:8080/",
     "height": 595
    },
    "outputId": "4922b1b4-4d34-4c08-ece4-f1ba71359b96"
   },
   "source": [
    "%matplotlib inline\n",
    "fig = plt.figure(figsize=(10,10))\n",
    "ax = fig.add_subplot(111)\n",
    "for character, pos in zip(characters, locs):\n",
    "    m = model[character]\n",
    "    value = pca.transform([m])[0]\n",
    "    ax.plot(value[0], value[1], \"r*\")\n",
    "    ax.annotate(words_list[pos], xy=value, xytext=value)\n",
    "plt.show()\n",
    "fig.savefig('word2vec.png')"
   ],
   "execution_count": null,
   "outputs": [
    {
     "output_type": "display_data",
     "data": {
      "image/png": "[encoded data removed]",
      "text/plain": [
       "<Figure size 720x720 with 1 Axes>"
      ]
     },
     "metadata": {
      "tags": []
     }
    }
   ]
  },
  {
   "cell_type": "markdown",
   "metadata": {
    "id": "BFfG2aONUS_L"
   },
   "source": [
    "Now let us see the most similar characters related to characters list as show below\n",
    "\n",
    "#### characters = ['dussasana','sakuni','duryodhana','bhishma', 'krishna','madri','pandu', 'kunti', 'karna', 'bhima', 'arjuna', 'nakula', 'sahadeva', 'draupadi']"
   ]
  },
  {
   "cell_type": "code",
   "metadata": {
    "id": "YZpO9MzaUS_M",
    "colab": {
     "base_uri": "https://localhost:8080/",
     "height": 272
    },
    "outputId": "0ba6c46c-6509-4be7-f5fd-2e6afb4d446c",
    "pycharm": {
     "name": "#%%\n"
    }
   },
   "source": [
    "for character in characters:\n",
    "    near = model.most_similar(character)[:5]\n",
    "    nearNames = [x[0] for x in near]\n",
    "    print(character, ':'.join(nearNames), sep=\"\\t\")"
   ],
   "execution_count": null,
   "outputs": [
    {
     "output_type": "stream",
     "text": [
      "dussasana\tsakuni:duhsasana:jayadratha:chitrasena:vikarna\n",
      "sakuni\tdussasana:duhsasana:uncle:jayadratha:salya\n",
      "duryodhana\tdussasana:sakuni:jayadratha:suyodhana:duhsasana\n",
      "bhishma\tvaisampayana:salya:sanjaya:sauti:kama\n",
      "krishna\tkesava:vasudeva:nala:govinda:madhava\n",
      "madri\tdraupadi:drupada:suvala:subhadra:twin\n",
      "pandu\tpritha:kunti:radha:suta:subhadra\n",
      "kunti\tpritha:radha:pandu:suta:suvala\n",
      "karna\tbhagadatta:vikarna:yuyudhana:duhsasana:kritavarman\n",
      "bhima\tbhimasena:vrikodara:ghatotkacha:dhananjaya:abhimanyu\n",
      "arjuna\tpartha:dhananjaya:kama:salya:bhima\n",
      "nakula\tsahadeva:twins:chitrasena:vikarna:sikhandin\n",
      "sahadeva\tnakula:twins:chitrasena:duhsasana:sikhandin\n",
      "draupadi\tmadri:drupada:maternal:suvala:dhritarashtra\n"
     ],
     "name": "stdout"
    }
   ]
  }
 ]
}